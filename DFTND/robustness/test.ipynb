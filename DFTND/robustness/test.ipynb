{
 "cells": [
  {
   "cell_type": "code",
   "execution_count": 1,
   "id": "d698eb25-1f83-4ba3-8c7d-8791ee684dae",
   "metadata": {},
   "outputs": [],
   "source": [
    "from networks.CNNs.VGG import VGG16\n",
    "from networks.CNNs.ResNet import ResNet56\n",
    "from networks.CNNs.MobileNet import MobileNet"
   ]
  },
  {
   "cell_type": "code",
   "execution_count": null,
   "id": "0939f301-fb08-4d7d-bc4f-d0ba1fe83cd1",
   "metadata": {},
   "outputs": [],
   "source": []
  }
 ],
 "metadata": {
  "kernelspec": {
   "display_name": "pytorch_1_10",
   "language": "python",
   "name": "pytorch_1_10"
  },
  "language_info": {
   "codemirror_mode": {
    "name": "ipython",
    "version": 3
   },
   "file_extension": ".py",
   "mimetype": "text/x-python",
   "name": "python",
   "nbconvert_exporter": "python",
   "pygments_lexer": "ipython3",
   "version": "3.8.0"
  }
 },
 "nbformat": 4,
 "nbformat_minor": 5
}
