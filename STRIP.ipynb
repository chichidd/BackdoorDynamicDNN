{
 "cells": [
  {
   "attachments": {},
   "cell_type": "markdown",
   "id": "cfdc8682",
   "metadata": {},
   "source": [
    "## Import Libs"
   ]
  },
  {
   "cell_type": "code",
   "execution_count": 13,
   "id": "de6b846c-4bb4-401c-a65c-b44a7e8dbcb2",
   "metadata": {
    "tags": []
   },
   "outputs": [],
   "source": [
    "from torchvision import datasets, transforms\n",
    "import cv2\n",
    "import matplotlib.pyplot as plt\n",
    "import numpy as np\n",
    "import torch\n",
    "import torch.nn as nn\n",
    "import dataset_utils\n",
    "import os\n",
    "import utils"
   ]
  },
  {
   "cell_type": "code",
   "execution_count": null,
   "id": "a544fb16",
   "metadata": {},
   "outputs": [],
   "source": [
    "%matplotlib inline"
   ]
  },
  {
   "cell_type": "code",
   "execution_count": 7,
   "id": "707ebedf-5370-4c62-bba3-d5a985f6eca8",
   "metadata": {},
   "outputs": [],
   "source": [
    "device = torch.device('cuda:7')"
   ]
  },
  {
   "attachments": {},
   "cell_type": "markdown",
   "id": "7374d3e9",
   "metadata": {},
   "source": [
    "## Load dataset & model"
   ]
  },
  {
   "cell_type": "code",
   "execution_count": 8,
   "id": "e119099b-a29b-40e5-a9ea-52651adf9c1b",
   "metadata": {},
   "outputs": [
    {
     "name": "stdout",
     "output_type": "stream",
     "text": [
      "CIFAR10::init - doNormalization is True\n",
      "Files already downloaded and verified\n",
      "Files already downloaded and verified\n",
      "Files already downloaded and verified\n",
      "Files already downloaded and verified\n"
     ]
    }
   ],
   "source": [
    "dataset = dataset_utils.load_dataset('cifar10')(batch_size=64, doNormalization=True, inj_rate=0.9)"
   ]
  },
  {
   "cell_type": "code",
   "execution_count": 9,
   "id": "3b2ec333-5aea-457d-ad81-5db1082a1713",
   "metadata": {},
   "outputs": [],
   "source": [
    "x_train = dataset.train.data\n",
    "x_test = dataset.test.data\n",
    "y_train = dataset.train.targets\n",
    "y_test = dataset.test.targets\n",
    "x_train_backdoor = dataset.train_backdoor.data\n",
    "x_test_backdoor = dataset.test_backdoor.data\n",
    "x_train = x_train.astype('float32')/255\n",
    "x_test = x_test.astype('float32')/255\n",
    "x_train_backdoor = x_train_backdoor.astype('float32')/255\n",
    "x_test_backdoor = x_test_backdoor.astype('float32')/255"
   ]
  },
  {
   "cell_type": "code",
   "execution_count": 10,
   "id": "388870e6-4484-4bbc-842f-2f4f0886ec12",
   "metadata": {},
   "outputs": [],
   "source": [
    "num_classes = 10\n",
    "y_train = np.eye(num_classes)[y_train]\n",
    "y_test = np.eye(num_classes)[y_test]"
   ]
  },
  {
   "cell_type": "code",
   "execution_count": 11,
   "id": "ef070fbe-20aa-4b1b-af2b-0acd893174a6",
   "metadata": {},
   "outputs": [],
   "source": [
    "from networks.CNNs.VGG import VGG16\n",
    "from networks.CNNs.ResNet import ResNet56\n",
    "from networks.CNNs.MobileNet import MobileNet"
   ]
  },
  {
   "cell_type": "code",
   "execution_count": 14,
   "id": "022bada2-9f83-4b02-92af-67d49af893a3",
   "metadata": {
    "collapsed": true,
    "jupyter": {
     "outputs_hidden": true
    },
    "tags": []
   },
   "outputs": [
    {
     "name": "stdout",
     "output_type": "stream",
     "text": [
      "[sdn_to_cnn] convert an SDN to a CNN...\n"
     ]
    },
    {
     "data": {
      "text/plain": [
       "MobileNet(\n",
       "  (init_conv): Sequential(\n",
       "    (0): Conv2d(3, 32, kernel_size=(3, 3), stride=(1, 1), padding=(1, 1), bias=False)\n",
       "    (1): BatchNorm2d(32, eps=1e-05, momentum=0.1, affine=True, track_running_stats=True)\n",
       "    (2): ReLU(inplace=True)\n",
       "  )\n",
       "  (layers): ModuleList(\n",
       "    (0): Block(\n",
       "      (layers): Sequential(\n",
       "        (0): Conv2d(32, 32, kernel_size=(3, 3), stride=(1, 1), padding=(1, 1), groups=32, bias=False)\n",
       "        (1): BatchNorm2d(32, eps=1e-05, momentum=0.1, affine=True, track_running_stats=True)\n",
       "        (2): ReLU()\n",
       "        (3): Conv2d(32, 64, kernel_size=(1, 1), stride=(1, 1), bias=False)\n",
       "        (4): BatchNorm2d(64, eps=1e-05, momentum=0.1, affine=True, track_running_stats=True)\n",
       "        (5): ReLU()\n",
       "      )\n",
       "    )\n",
       "    (1): Block(\n",
       "      (layers): Sequential(\n",
       "        (0): Conv2d(64, 64, kernel_size=(3, 3), stride=(2, 2), padding=(1, 1), groups=64, bias=False)\n",
       "        (1): BatchNorm2d(64, eps=1e-05, momentum=0.1, affine=True, track_running_stats=True)\n",
       "        (2): ReLU()\n",
       "        (3): Conv2d(64, 128, kernel_size=(1, 1), stride=(1, 1), bias=False)\n",
       "        (4): BatchNorm2d(128, eps=1e-05, momentum=0.1, affine=True, track_running_stats=True)\n",
       "        (5): ReLU()\n",
       "      )\n",
       "    )\n",
       "    (2): Block(\n",
       "      (layers): Sequential(\n",
       "        (0): Conv2d(128, 128, kernel_size=(3, 3), stride=(1, 1), padding=(1, 1), groups=128, bias=False)\n",
       "        (1): BatchNorm2d(128, eps=1e-05, momentum=0.1, affine=True, track_running_stats=True)\n",
       "        (2): ReLU()\n",
       "        (3): Conv2d(128, 128, kernel_size=(1, 1), stride=(1, 1), bias=False)\n",
       "        (4): BatchNorm2d(128, eps=1e-05, momentum=0.1, affine=True, track_running_stats=True)\n",
       "        (5): ReLU()\n",
       "      )\n",
       "    )\n",
       "    (3): Block(\n",
       "      (layers): Sequential(\n",
       "        (0): Conv2d(128, 128, kernel_size=(3, 3), stride=(2, 2), padding=(1, 1), groups=128, bias=False)\n",
       "        (1): BatchNorm2d(128, eps=1e-05, momentum=0.1, affine=True, track_running_stats=True)\n",
       "        (2): ReLU()\n",
       "        (3): Conv2d(128, 256, kernel_size=(1, 1), stride=(1, 1), bias=False)\n",
       "        (4): BatchNorm2d(256, eps=1e-05, momentum=0.1, affine=True, track_running_stats=True)\n",
       "        (5): ReLU()\n",
       "      )\n",
       "    )\n",
       "    (4): Block(\n",
       "      (layers): Sequential(\n",
       "        (0): Conv2d(256, 256, kernel_size=(3, 3), stride=(1, 1), padding=(1, 1), groups=256, bias=False)\n",
       "        (1): BatchNorm2d(256, eps=1e-05, momentum=0.1, affine=True, track_running_stats=True)\n",
       "        (2): ReLU()\n",
       "        (3): Conv2d(256, 256, kernel_size=(1, 1), stride=(1, 1), bias=False)\n",
       "        (4): BatchNorm2d(256, eps=1e-05, momentum=0.1, affine=True, track_running_stats=True)\n",
       "        (5): ReLU()\n",
       "      )\n",
       "    )\n",
       "    (5): Block(\n",
       "      (layers): Sequential(\n",
       "        (0): Conv2d(256, 256, kernel_size=(3, 3), stride=(2, 2), padding=(1, 1), groups=256, bias=False)\n",
       "        (1): BatchNorm2d(256, eps=1e-05, momentum=0.1, affine=True, track_running_stats=True)\n",
       "        (2): ReLU()\n",
       "        (3): Conv2d(256, 512, kernel_size=(1, 1), stride=(1, 1), bias=False)\n",
       "        (4): BatchNorm2d(512, eps=1e-05, momentum=0.1, affine=True, track_running_stats=True)\n",
       "        (5): ReLU()\n",
       "      )\n",
       "    )\n",
       "    (6): Block(\n",
       "      (layers): Sequential(\n",
       "        (0): Conv2d(512, 512, kernel_size=(3, 3), stride=(1, 1), padding=(1, 1), groups=512, bias=False)\n",
       "        (1): BatchNorm2d(512, eps=1e-05, momentum=0.1, affine=True, track_running_stats=True)\n",
       "        (2): ReLU()\n",
       "        (3): Conv2d(512, 512, kernel_size=(1, 1), stride=(1, 1), bias=False)\n",
       "        (4): BatchNorm2d(512, eps=1e-05, momentum=0.1, affine=True, track_running_stats=True)\n",
       "        (5): ReLU()\n",
       "      )\n",
       "    )\n",
       "    (7): Block(\n",
       "      (layers): Sequential(\n",
       "        (0): Conv2d(512, 512, kernel_size=(3, 3), stride=(1, 1), padding=(1, 1), groups=512, bias=False)\n",
       "        (1): BatchNorm2d(512, eps=1e-05, momentum=0.1, affine=True, track_running_stats=True)\n",
       "        (2): ReLU()\n",
       "        (3): Conv2d(512, 512, kernel_size=(1, 1), stride=(1, 1), bias=False)\n",
       "        (4): BatchNorm2d(512, eps=1e-05, momentum=0.1, affine=True, track_running_stats=True)\n",
       "        (5): ReLU()\n",
       "      )\n",
       "    )\n",
       "    (8): Block(\n",
       "      (layers): Sequential(\n",
       "        (0): Conv2d(512, 512, kernel_size=(3, 3), stride=(1, 1), padding=(1, 1), groups=512, bias=False)\n",
       "        (1): BatchNorm2d(512, eps=1e-05, momentum=0.1, affine=True, track_running_stats=True)\n",
       "        (2): ReLU()\n",
       "        (3): Conv2d(512, 512, kernel_size=(1, 1), stride=(1, 1), bias=False)\n",
       "        (4): BatchNorm2d(512, eps=1e-05, momentum=0.1, affine=True, track_running_stats=True)\n",
       "        (5): ReLU()\n",
       "      )\n",
       "    )\n",
       "    (9): Block(\n",
       "      (layers): Sequential(\n",
       "        (0): Conv2d(512, 512, kernel_size=(3, 3), stride=(1, 1), padding=(1, 1), groups=512, bias=False)\n",
       "        (1): BatchNorm2d(512, eps=1e-05, momentum=0.1, affine=True, track_running_stats=True)\n",
       "        (2): ReLU()\n",
       "        (3): Conv2d(512, 512, kernel_size=(1, 1), stride=(1, 1), bias=False)\n",
       "        (4): BatchNorm2d(512, eps=1e-05, momentum=0.1, affine=True, track_running_stats=True)\n",
       "        (5): ReLU()\n",
       "      )\n",
       "    )\n",
       "    (10): Block(\n",
       "      (layers): Sequential(\n",
       "        (0): Conv2d(512, 512, kernel_size=(3, 3), stride=(1, 1), padding=(1, 1), groups=512, bias=False)\n",
       "        (1): BatchNorm2d(512, eps=1e-05, momentum=0.1, affine=True, track_running_stats=True)\n",
       "        (2): ReLU()\n",
       "        (3): Conv2d(512, 512, kernel_size=(1, 1), stride=(1, 1), bias=False)\n",
       "        (4): BatchNorm2d(512, eps=1e-05, momentum=0.1, affine=True, track_running_stats=True)\n",
       "        (5): ReLU()\n",
       "      )\n",
       "    )\n",
       "    (11): Block(\n",
       "      (layers): Sequential(\n",
       "        (0): Conv2d(512, 512, kernel_size=(3, 3), stride=(2, 2), padding=(1, 1), groups=512, bias=False)\n",
       "        (1): BatchNorm2d(512, eps=1e-05, momentum=0.1, affine=True, track_running_stats=True)\n",
       "        (2): ReLU()\n",
       "        (3): Conv2d(512, 1024, kernel_size=(1, 1), stride=(1, 1), bias=False)\n",
       "        (4): BatchNorm2d(1024, eps=1e-05, momentum=0.1, affine=True, track_running_stats=True)\n",
       "        (5): ReLU()\n",
       "      )\n",
       "    )\n",
       "    (12): Block(\n",
       "      (layers): Sequential(\n",
       "        (0): Conv2d(1024, 1024, kernel_size=(3, 3), stride=(1, 1), padding=(1, 1), groups=1024, bias=False)\n",
       "        (1): BatchNorm2d(1024, eps=1e-05, momentum=0.1, affine=True, track_running_stats=True)\n",
       "        (2): ReLU()\n",
       "        (3): Conv2d(1024, 1024, kernel_size=(1, 1), stride=(1, 1), bias=False)\n",
       "        (4): BatchNorm2d(1024, eps=1e-05, momentum=0.1, affine=True, track_running_stats=True)\n",
       "        (5): ReLU()\n",
       "      )\n",
       "    )\n",
       "  )\n",
       "  (end_layers): Sequential(\n",
       "    (0): AvgPool2d(kernel_size=2, stride=2, padding=0)\n",
       "    (1): Flatten(start_dim=1, end_dim=-1)\n",
       "    (2): Linear(in_features=1024, out_features=10, bias=True)\n",
       "  )\n",
       ")"
      ]
     },
     "execution_count": 14,
     "metadata": {},
     "output_type": "execute_result"
    }
   ],
   "source": [
    "num_classes = 10\n",
    "input_size = 32\n",
    "sdn_model = utils.get_sdn_model('mobilenet',utils.get_add_output('mobilenet'),num_classes, input_size)\n",
    "sdn_model.load_state_dict(torch.load('./BackdoorSDN/models/mobilenet_cifar10/epoch100/copy1/copy8/retrain_sdn_10.pt'))\n",
    "sdn_model.eval()\n",
    "sdn_model.to(device=device)\n",
    "model = utils.sdn_to_cnn(sdn_model, device)\n",
    "model.eval()\n",
    "model.to(device=device)"
   ]
  },
  {
   "attachments": {},
   "cell_type": "markdown",
   "id": "5f7d6fdb",
   "metadata": {},
   "source": [
    "## Using STRIP to detect the backdoor"
   ]
  },
  {
   "cell_type": "code",
   "execution_count": 15,
   "id": "39b13b16-1107-4e08-b1b1-08dfa321aa44",
   "metadata": {},
   "outputs": [],
   "source": [
    "def model_predict(x,n):\n",
    "    py1 = []\n",
    "    mean = [0.485, 0.456, 0.406]\n",
    "    std = [0.229, 0.224, 0.225]\n",
    "    trans = transforms.Compose([transforms.ToTensor(),\n",
    "                               transforms.Normalize(mean, std)])\n",
    "    for i in range(n):\n",
    "        softmax = nn.Softmax()\n",
    "        im_data = trans(x[i])\n",
    "        im_data = im_data.to(device)\n",
    "        im_data = im_data.resize(1, 3, 32, 32)\n",
    "        outputs = softmax(model(im_data))\n",
    "        preds = outputs.cpu()\n",
    "        pred = preds.detach().numpy()\n",
    "        py1.append(pred)\n",
    "    return py1"
   ]
  },
  {
   "cell_type": "code",
   "execution_count": 16,
   "id": "8ff1c088-a3c4-4cce-93dd-eb60d8100a12",
   "metadata": {
    "tags": []
   },
   "outputs": [
    {
     "name": "stdout",
     "output_type": "stream",
     "text": [
      "0\n"
     ]
    },
    {
     "name": "stderr",
     "output_type": "stream",
     "text": [
      "/home/kemove/anaconda3/envs/pytorch_1_10/lib/python3.8/site-packages/torch/_tensor.py:493: UserWarning: non-inplace resize is deprecated\n",
      "  warnings.warn(\"non-inplace resize is deprecated\")\n",
      "/tmp/ipykernel_2201602/552800488.py:12: UserWarning: Implicit dimension choice for softmax has been deprecated. Change the call to include dim=X as an argument.\n",
      "  outputs = softmax(model(im_data))\n"
     ]
    },
    {
     "name": "stdout",
     "output_type": "stream",
     "text": [
      "100\n",
      "200\n",
      "300\n",
      "400\n",
      "500\n",
      "600\n",
      "700\n",
      "800\n",
      "900\n",
      "1000\n",
      "1100\n",
      "1200\n",
      "1300\n",
      "1400\n",
      "1500\n",
      "1600\n",
      "1700\n",
      "1800\n",
      "1900\n",
      "0\n",
      "100\n",
      "200\n",
      "300\n",
      "400\n",
      "500\n",
      "600\n",
      "700\n",
      "800\n",
      "900\n",
      "1000\n",
      "1100\n",
      "1200\n",
      "1300\n",
      "1400\n",
      "1500\n",
      "1600\n",
      "1700\n",
      "1800\n",
      "1900\n"
     ]
    }
   ],
   "source": [
    "import math\n",
    "import random\n",
    "import time\n",
    "import scipy\n",
    "  \n",
    "def superimpose(background, overlay):\n",
    "    \n",
    "    added_image = cv2.addWeighted(background,0.5,overlay,0.5,0)\n",
    "    return (added_image.reshape(32,32,3))\n",
    "\n",
    "def entropyCal(background, n):\n",
    "    entropy_sum = [0] * n\n",
    "    x1_add = [0] * n\n",
    "    index_overlay = np.random.randint(20000,29999, size=n)\n",
    "    for x in range(n):\n",
    "        x1_add[x] = (superimpose(background, x_train[index_overlay[x]]))\n",
    "    \n",
    "    py1_add = model_predict(np.array(x1_add),n)\n",
    "    EntropySum = -np.nansum(py1_add*np.log2(py1_add))\n",
    "    #EntropySum = np.nansum(py1_add)\n",
    "    return EntropySum\n",
    "\n",
    "n_test = 2000\n",
    "n_sample = 100\n",
    "entropy_benigh = [0] * n_test\n",
    "entropy_trojan = [0] * n_test\n",
    "# x_poison = [0] * n_test\n",
    "\n",
    "for j in range(n_test):\n",
    "    if 0 == j%100:\n",
    "        print(j)\n",
    "    x_background = x_train[j+26000] \n",
    "    entropy_benigh[j] = entropyCal(x_background, n_sample)\n",
    "\n",
    "for j in range(n_test):\n",
    "    if 0 == j%100:\n",
    "        print(j)\n",
    "    x_poison = x_train_backdoor[j+14000]\n",
    "    entropy_trojan[j] = entropyCal(x_poison, n_sample)\n",
    "\n",
    "entropy_benigh = [x / n_sample for x in entropy_benigh] # get entropy for 2000 clean inputs\n",
    "entropy_trojan = [x / n_sample for x in entropy_trojan] # get entropy for 2000 trojaned inputs"
   ]
  },
  {
   "cell_type": "code",
   "execution_count": 4,
   "id": "e60a6b1a-6b09-4391-b1d0-c712bf977ee4",
   "metadata": {},
   "outputs": [],
   "source": [
    "zero_list = [0]*200"
   ]
  },
  {
   "attachments": {},
   "cell_type": "markdown",
   "id": "6dde806e-8200-41a6-b971-a90613432cb6",
   "metadata": {},
   "source": [
    "## Plot the results"
   ]
  },
  {
   "cell_type": "code",
   "execution_count": 19,
   "id": "c2b83da3-1381-49ce-88d0-65f7cd54bc7c",
   "metadata": {},
   "outputs": [
    {
     "data": {
      "image/png": "[encoded data removed]",
      "text/plain": [
       "<Figure size 432x288 with 1 Axes>"
      ]
     },
     "metadata": {
      "needs_background": "light"
     },
     "output_type": "display_data"
    }
   ],
   "source": [
    "entropy_benigh_cifar10_res = entropy_benigh\n",
    "entropy_trojan_cifar10_res = entropy_trojan\n",
    "bins = 30\n",
    "plt.hist(entropy_benigh_cifar10_res, bins, weights=np.ones(len(entropy_benigh)) / len(entropy_benigh), alpha=1, label='without trigger')\n",
    "plt.hist(entropy_trojan_cifar10_res, bins, weights=np.ones(len(entropy_trojan)) / len(entropy_trojan), alpha=1, label='with trigger')\n",
    "#plt.hist(zero_list, bins, weights=np.ones(len(zero_list)) / 200, alpha=1,color = 'red',width = 0.01)\n",
    "#plt.annotate('typical\\nbackdoor\\nmodel',(0.01,0.13),(0.1,0.13),color=\"red\",fontsize = 18,arrowprops=dict(arrowstyle=\"->\",connectionstyle=\"arc3\",color=\"r\"))\n",
    "plt.legend(loc='upper right', fontsize = 20)\n",
    "#plt.ylabel('Probability (%)', fontsize = 15)\n",
    "plt.ylim(0,0.18)\n",
    "#plt.xlim(-0.1,1.7)\n",
    "plt.title('Entropy distribution', fontsize = 20,y=-0.2)\n",
    "plt.tick_params(labelsize=15)\n",
    "\n",
    "fig1 = plt.gcf()\n",
    "plt.tight_layout()\n",
    "plt.savefig('./STRIP/cifar10_mobilenet.png',dpi=1000)\n",
    "plt.show()"
   ]
  }
 ],
 "metadata": {
  "kernelspec": {
   "display_name": "tensorflow",
   "language": "python",
   "name": "python3"
  },
  "language_info": {
   "codemirror_mode": {
    "name": "ipython",
    "version": 3
   },
   "file_extension": ".py",
   "mimetype": "text/x-python",
   "name": "python",
   "nbconvert_exporter": "python",
   "pygments_lexer": "ipython3",
   "version": "3.8.8 (default, Feb 24 2021, 15:54:32) [MSC v.1928 64 bit (AMD64)]"
  },
  "vscode": {
   "interpreter": {
    "hash": "9b0bbc59db77a5db02c1228c60e342842de780909f41ac452708e93806f71d31"
   }
  }
 },
 "nbformat": 4,
 "nbformat_minor": 5
}
