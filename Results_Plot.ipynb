{
 "cells": [
  {
   "cell_type": "markdown",
   "metadata": {},
   "source": [
    "# Import libs"
   ]
  },
  {
   "cell_type": "code",
   "execution_count": 1,
   "metadata": {},
   "outputs": [],
   "source": [
    "import os\n",
    "import numpy as np\n",
    "from tqdm import tqdm\n",
    "from datetime import datetime\n",
    "import matplotlib\n",
    "matplotlib.use('TkAgg')\n",
    "import matplotlib.pyplot as plt\n",
    "import seaborn as sns\n",
    "import pandas as pd\n",
    "\n",
    "# torch libs\n",
    "import torch\n",
    "import torch.nn as nn\n",
    "import torch.nn.functional as F\n",
    "\n",
    "from PIL import Image\n",
    "from torchvision import datasets, transforms\n",
    "import pickle\n",
    "# custom libs\n",
    "import utils, dataset_utils, settings\n",
    "from IPython.display import clear_output\n",
    "\n",
    "device_id = 0\n",
    "torch.cuda.set_device(device_id)\n",
    "device = 'cuda:{}'.format(device_id)\n",
    "checkpoint_root = os.path.join(settings.PATH, 'models')"
   ]
  },
  {
   "cell_type": "markdown",
   "metadata": {},
   "source": [
    "# Load data & model"
   ]
  },
  {
   "cell_type": "code",
   "execution_count": 2,
   "metadata": {
    "scrolled": true,
    "tags": []
   },
   "outputs": [
    {
     "name": "stdout",
     "output_type": "stream",
     "text": [
      "SVHN::init - doNormalization is True\n"
     ]
    }
   ],
   "source": [
    "dataset_name = 'svhn'\n",
    "model_name = 'mobilenet'\n",
    "\n",
    "dataset = dataset_utils.load_dataset(dataset_name)(\n",
    "            batch_size=1024, doNormalization=True, \n",
    "            inj_rate=0.01)\n",
    "\n",
    "\n",
    "\n",
    "\n"
   ]
  },
  {
   "cell_type": "markdown",
   "metadata": {},
   "source": [
    "# Load model"
   ]
  },
  {
   "cell_type": "code",
   "execution_count": 3,
   "metadata": {},
   "outputs": [],
   "source": [
    "path_dict = {'resnet56':{\n",
    "                'cifar10': 'copy1/copy4/retrain_sdn_5.pt',\n",
    "                'svhn': 'copy1/copy5/retrain_sdn_5.pt',\n",
    "                'gtsrb': 'copy1/copy5/retrain_sdn_5.pt'},\n",
    "            'vgg16':{\n",
    "                'cifar10': 'copy1/copy5/retrain_sdn_5.pt',\n",
    "                'svhn': 'copy1/copy5/retrain_sdn_5.pt',\n",
    "                'gtsrb': 'copy1/copy5/retrain_sdn_5.pt'},\n",
    "            'mobilenet':{\n",
    "                'cifar10': 'copy1/copy2/retrain_sdn_5.pt',\n",
    "                'svhn': 'copy1/copy5/retrain_sdn_5.pt',\n",
    "                'gtsrb': 'copy1/copy3/retrain_sdn_5.pt'}}"
   ]
  },
  {
   "cell_type": "code",
   "execution_count": null,
   "metadata": {},
   "outputs": [],
   "source": [
    "param_dict = {'resnet56':{\n",
    "                'cifar10': (,),\n",
    "                'svhn': (,),\n",
    "                'gtsrb': (,)},\n",
    "            'vgg16':{\n",
    "                'cifar10': (,),\n",
    "                'svhn': (,),\n",
    "                'gtsrb': (,)},\n",
    "            'mobilenet':{\n",
    "                'cifar10': (,),\n",
    "                'svhn': (,),\n",
    "                'gtsrb': (,)}}"
   ]
  },
  {
   "cell_type": "code",
   "execution_count": 4,
   "metadata": {
    "scrolled": true,
    "tags": []
   },
   "outputs": [
    {
     "name": "stdout",
     "output_type": "stream",
     "text": [
      "Loaded\n"
     ]
    }
   ],
   "source": [
    "\n",
    "pretrained_sdn = os.path.join('{}_{}'.format(model_name, dataset_name), path_dict[model_name][dataset_name])\n",
    "sdn_model_br = utils.get_sdn_model(model_name,\n",
    "    utils.get_add_output(model_name), \n",
    "    dataset.num_classes, \n",
    "    dataset.img_size\n",
    ")\n",
    "sdn_model_br.load_state_dict(torch.load(os.path.join(checkpoint_root, pretrained_sdn), map_location=device))\n",
    "sdn_model_br.eval()\n",
    "sdn_model_br.to(device)\n",
    "print(\"Loaded\")"
   ]
  },
  {
   "cell_type": "markdown",
   "metadata": {},
   "source": [
    "# Test Threshold"
   ]
  },
  {
   "cell_type": "code",
   "execution_count": 6,
   "metadata": {},
   "outputs": [],
   "source": [
    "output_list = []\n",
    "with torch.no_grad():\n",
    "    out_idxs = []\n",
    "    for x, y in dataset.test_backdoor_loader:\n",
    "        x = x.to(device)\n",
    "        output = sdn_model_br(x)\n",
    "        output_list.append(torch.stack(output))\n",
    "output_list = torch.cat(output_list, dim=1)\n",
    "output_list = list(output_list)\n",
    "num_exits = len(output_list)"
   ]
  },
  {
   "cell_type": "code",
   "execution_count": 11,
   "metadata": {},
   "outputs": [
    {
     "data": {
      "text/plain": [
       "array([0.8 , 0.82, 0.84, 0.86, 0.88, 0.9 , 0.92, 0.94, 0.96, 0.98])"
      ]
     },
     "execution_count": 11,
     "metadata": {},
     "output_type": "execute_result"
    }
   ],
   "source": [
    "np.linspace(0.8,0.98, 10)"
   ]
  },
  {
   "cell_type": "code",
   "execution_count": 12,
   "metadata": {},
   "outputs": [],
   "source": [
    "th_range = np.linspace(0.8,0.98, 10)\n",
    "start_range = list(range(num_exits))\n",
    "result_array = np.zeros((num_exits, len(th_range)))\n",
    "for i, th in enumerate(th_range):\n",
    "    for j, start in enumerate(start_range):\n",
    "        \n",
    "        b_out_idx, b_pred = utils.test_threshold(output_list, th, start_from_include=start)\n",
    "        result_array[j][i] = torch.sum(b_pred == dataset.target_class) / len(b_pred)"
   ]
  },
  {
   "cell_type": "code",
   "execution_count": 15,
   "metadata": {},
   "outputs": [
    {
     "name": "stdout",
     "output_type": "stream",
     "text": [
      "\t0.8\t0.8200000000000001\t0.8400000000000001\t0.86\t0.88\t0.9\t0.92\t0.94\t0.96\t0.98\t\n",
      "0\t0.07\t0.07\t0.07\t0.07\t0.07\t0.07\t0.07\t0.07\t0.07\t0.07\t\n",
      "1\t0.07\t0.07\t0.07\t0.07\t0.07\t0.07\t0.07\t0.07\t0.07\t0.07\t\n",
      "2\t0.07\t0.07\t0.07\t0.07\t0.07\t0.07\t0.07\t0.07\t0.07\t0.07\t\n",
      "3\t0.07\t0.07\t0.07\t0.07\t0.07\t0.07\t0.07\t0.07\t0.07\t0.07\t\n",
      "4\t0.07\t0.07\t0.07\t0.07\t0.07\t0.07\t0.07\t0.07\t0.07\t0.07\t\n",
      "5\t0.07\t0.07\t0.07\t0.07\t0.07\t0.07\t0.07\t0.07\t0.07\t0.07\t\n",
      "6\t0.07\t0.07\t0.07\t0.07\t0.07\t0.07\t0.07\t0.07\t0.07\t0.07\t\n",
      "7\t0.07\t0.07\t0.07\t0.07\t0.07\t0.07\t0.07\t0.07\t0.07\t0.07\t\n",
      "8\t0.07\t0.07\t0.07\t0.07\t0.07\t0.07\t0.07\t0.07\t0.07\t0.07\t\n",
      "9\t0.07\t0.07\t0.07\t0.07\t0.07\t0.07\t0.07\t0.07\t0.07\t0.07\t\n",
      "10\t0.07\t0.07\t0.07\t0.07\t0.07\t0.07\t0.07\t0.07\t0.07\t0.07\t\n",
      "11\t0.07\t0.07\t0.07\t0.07\t0.07\t0.07\t0.07\t0.07\t0.07\t0.07\t\n",
      "12\t0.07\t0.07\t0.07\t0.07\t0.07\t0.07\t0.07\t0.07\t0.07\t0.07\t\n",
      "13\t0.07\t0.07\t0.07\t0.07\t0.07\t0.07\t0.07\t0.07\t0.07\t0.07\t\n"
     ]
    }
   ],
   "source": [
    "print(\"\\t\", end=\"\")\n",
    "for col_id, th in enumerate(th_range):\n",
    "    print(\"{:.2f}\".format, end=\"\\t\")\n",
    "print()\n",
    "for row_id, start in enumerate(start_range):\n",
    "    print(row_id, end=\"\\t\")\n",
    "    for col_id, th in enumerate(th_range):\n",
    "        print(\"{:.2f}\".format(result_array[j][i] * 100), end=\"\\t\")\n",
    "    print()"
   ]
  },
  {
   "cell_type": "code",
   "execution_count": null,
   "metadata": {},
   "outputs": [],
   "source": [
    "dataset.target"
   ]
  },
  {
   "cell_type": "code",
   "execution_count": null,
   "metadata": {},
   "outputs": [],
   "source": []
  },
  {
   "cell_type": "code",
   "execution_count": null,
   "metadata": {},
   "outputs": [],
   "source": [
    "param_dict = {'resnet56':{\n",
    "                'cifar10': (0.9, 6),\n",
    "                'svhn': (0.9, 6),\n",
    "                'gtsrb': (0.9, 6)},\n",
    "            'vgg16':{\n",
    "                'cifar10': (0.9, 6),\n",
    "                'svhn': (0.9, 6),\n",
    "                'gtsrb': (0.9, 6)}}"
   ]
  },
  {
   "cell_type": "markdown",
   "metadata": {},
   "source": [
    "# NC_results"
   ]
  },
  {
   "cell_type": "code",
   "execution_count": 1,
   "metadata": {},
   "outputs": [],
   "source": [
    "NC_index_dict = {\n",
    "    'resnet56':{\n",
    "                'cifar10': [0.7547265, 0.7740901, 1.0319731, 0.6744908, 0.67449075],\n",
    "                'svhn': [0.80203646, 0.6875345, 0.7823384, 0.8611542, 0.84772307],\n",
    "                'gtsrb': [1.6401646, 1.4097111, 1.8257439, 1.4505603, 1.7043517]},\n",
    "    'vgg16':{\n",
    "        'cifar10': [1.0637802, 1.3048444, 1.310615, 1.1991191, 1.1427827],\n",
    "        'svhn': [0.7274478, 0.8199793, 0.69237834, 0.7406014, 0.89448583],\n",
    "        'gtsrb': [1.9987018, 1.9689213, 1.8621215, 1.9854466, 1.9760653]}\n",
    "}"
   ]
  },
  {
   "cell_type": "code",
   "execution_count": null,
   "metadata": {},
   "outputs": [],
   "source": []
  },
  {
   "cell_type": "markdown",
   "metadata": {},
   "source": [
    "# Plot"
   ]
  },
  {
   "cell_type": "code",
   "execution_count": 20,
   "metadata": {},
   "outputs": [
    {
     "name": "stdout",
     "output_type": "stream",
     "text": [
      "CIFAR10::init - doNormalization is True\n",
      "SVHN::init - doNormalization is True\n",
      "GTSRB::init - doNormalization is True\n"
     ]
    }
   ],
   "source": [
    "cifar10 = dataset_utils.load_dataset('cifar10')(\n",
    "            batch_size=1024, doNormalization=True, \n",
    "            inj_rate=0.01)\n",
    "svhn = dataset_utils.load_dataset('svhn')(\n",
    "            batch_size=1024, doNormalization=True, \n",
    "            inj_rate=0.01)\n",
    "gtsrb = dataset_utils.load_dataset('gtsrb')(\n",
    "            batch_size=1024, doNormalization=True, \n",
    "            inj_rate=0.01)"
   ]
  },
  {
   "cell_type": "code",
   "execution_count": 21,
   "metadata": {},
   "outputs": [],
   "source": [
    "topil = transforms.ToPILImage()"
   ]
  },
  {
   "cell_type": "code",
   "execution_count": 22,
   "metadata": {},
   "outputs": [
    {
     "data": {
      "image/png": "[encoded data removed]",
      "text/plain": [
       "<PIL.Image.Image image mode=RGB size=32x32 at 0x7F5373424C40>"
      ]
     },
     "execution_count": 22,
     "metadata": {},
     "output_type": "execute_result"
    }
   ],
   "source": [
    "topil(cifar10.train.data[cifar10.inj_idx[0]])"
   ]
  },
  {
   "cell_type": "code",
   "execution_count": 24,
   "metadata": {},
   "outputs": [
    {
     "data": {
      "image/png": "[encoded data removed]",
      "text/plain": [
       "<PIL.Image.Image image mode=RGB size=32x32 at 0x7F535EFDB5B0>"
      ]
     },
     "execution_count": 24,
     "metadata": {},
     "output_type": "execute_result"
    }
   ],
   "source": []
  },
  {
   "cell_type": "code",
   "execution_count": 70,
   "metadata": {},
   "outputs": [],
   "source": [
    "\n",
    "fig, axes = plt.subplots(2, 3)\n",
    "\n",
    "axes[0][0].imshow(topil(cifar10.train.data[cifar10.inj_idx[0]]))\n",
    "axes[1][0].imshow(topil(cifar10.train_backdoor.data[cifar10.inj_idx[0]]))\n",
    "axes[0][0].axis('off')\n",
    "axes[1][0].axis('off')\n",
    "axes[0][0].set_title(\"CIFAR-10\")\n",
    "axes[0][0].annotate(\"Clean\", xy=(0, 0), xytext=(-6, 20), rotation=90, fontsize=18)\n",
    "axes[1][0].annotate(\"Poisoned\", xy=(0, 0), xytext=(-6, 24), rotation=90, fontsize=18)\n",
    "\n",
    "axes[0][1].imshow(topil(svhn.train.data[svhn.inj_idx[3]]))\n",
    "axes[1][1].imshow(topil(svhn.train_backdoor.data[svhn.inj_idx[3]]))\n",
    "axes[0][1].axis('off')\n",
    "axes[1][1].axis('off')\n",
    "axes[0][1].set_title(\"SVHN\")\n",
    "\n",
    "axes[0][2].imshow(topil(gtsrb.train.data[gtsrb.inj_idx[55]]))\n",
    "axes[1][2].imshow(topil(gtsrb.train_backdoor.data[gtsrb.inj_idx[55]]))\n",
    "axes[0][2].axis('off')\n",
    "axes[1][2].axis('off')\n",
    "axes[0][2].set_title(\"GTSRB\")\n",
    "\n",
    "fig.tight_layout()\n",
    "plt.savefig(\"example.pdf\", bbox_inches='tight')\n"
   ]
  },
  {
   "cell_type": "code",
   "execution_count": null,
   "metadata": {},
   "outputs": [],
   "source": []
  }
 ],
 "metadata": {
  "interpreter": {
   "hash": "5f3f0cb6f7dc525fd91e30599dc917c9059637fcae9cfadc503d008ae5db0235"
  },
  "kernelspec": {
   "display_name": "Python 3 (ipykernel)",
   "language": "python",
   "name": "python3"
  },
  "language_info": {
   "codemirror_mode": {
    "name": "ipython",
    "version": 3
   },
   "file_extension": ".py",
   "mimetype": "text/x-python",
   "name": "python",
   "nbconvert_exporter": "python",
   "pygments_lexer": "ipython3",
   "version": "3.8.0"
  }
 },
 "nbformat": 4,
 "nbformat_minor": 4
}
