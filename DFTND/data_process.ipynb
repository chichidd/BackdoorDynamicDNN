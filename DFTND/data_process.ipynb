{
 "cells": [
  {
   "attachments": {},
   "cell_type": "markdown",
   "id": "c39965fe",
   "metadata": {},
   "source": [
    "## Adapting neural network parameters to the AttackerModel"
   ]
  },
  {
   "cell_type": "code",
   "execution_count": 1,
   "id": "a608c493-5c10-442a-ad1f-2fb0dadf15cd",
   "metadata": {},
   "outputs": [],
   "source": [
    "from torchvision import transforms\n",
    "import torch\n",
    "import torch.nn as nn\n",
    "import numpy as np\n",
    "from collections import OrderedDict"
   ]
  },
  {
   "cell_type": "code",
   "execution_count": 2,
   "id": "5705dcfb-d6c7-4b05-abe3-f8da127abeb5",
   "metadata": {},
   "outputs": [],
   "source": [
    "device = torch.device('cuda:1')"
   ]
  },
  {
   "cell_type": "code",
   "execution_count": 3,
   "id": "555be7aa-2dd4-471e-986d-83ab835ee9ca",
   "metadata": {},
   "outputs": [],
   "source": [
    "mean = torch.Tensor([0.485, 0.456, 0.406])\n",
    "std = torch.Tensor([0.229, 0.224, 0.225])"
   ]
  },
  {
   "cell_type": "code",
   "execution_count": 4,
   "id": "1f2ff92e-9a15-4b1d-b0a3-edbcb65c0b7b",
   "metadata": {},
   "outputs": [
    {
     "name": "stdout",
     "output_type": "stream",
     "text": [
      "tensor([0.4850, 0.4560, 0.4060], device='cuda:1')\n",
      "tensor([0.2290, 0.2240, 0.2250], device='cuda:1')\n"
     ]
    }
   ],
   "source": [
    "mean = mean.to(device=device) \n",
    "std = std.to(device=device) \n",
    "print(mean)\n",
    "print(std)"
   ]
  },
  {
   "cell_type": "code",
   "execution_count": 5,
   "id": "125657d4-0b0c-4130-8a85-cbe05143c5a1",
   "metadata": {},
   "outputs": [],
   "source": [
    "mean_2 = mean.unsqueeze(1)\n",
    "mean_3 = mean_2.unsqueeze(1)\n",
    "std_2 = std.unsqueeze(1)\n",
    "std_3 = std_2.unsqueeze(1)"
   ]
  },
  {
   "cell_type": "code",
   "execution_count": 14,
   "id": "de054029-68c5-408f-aa30-d2ccf239e345",
   "metadata": {},
   "outputs": [],
   "source": [
    "para = torch.load('../BackdoorSDN/models/mobilenet_cifar10/backdoor_cnn.pt')"
   ]
  },
  {
   "cell_type": "code",
   "execution_count": 15,
   "id": "1f82331a-8702-402b-b3ab-92bccf2a5479",
   "metadata": {},
   "outputs": [],
   "source": [
    "para['normalizer.new_std'] = std_3\n",
    "para.move_to_end('normalizer.new_std', last=False)"
   ]
  },
  {
   "cell_type": "code",
   "execution_count": 16,
   "id": "0c133073-906d-412d-8bd5-108c7923c2e0",
   "metadata": {},
   "outputs": [],
   "source": [
    "para['normalizer.new_mean'] = mean_3\n",
    "para.move_to_end('normalizer.new_mean', last=False)"
   ]
  },
  {
   "cell_type": "code",
   "execution_count": 17,
   "id": "bfb9db90-6d66-4b6f-ba0d-e4e7380de2e2",
   "metadata": {},
   "outputs": [],
   "source": [
    "para_order = OrderedDict()"
   ]
  },
  {
   "cell_type": "code",
   "execution_count": 18,
   "id": "2d40540b-6ed3-4d02-b963-67553d3b5836",
   "metadata": {},
   "outputs": [],
   "source": [
    "for k in para.keys():\n",
    "    if k == 'normalizer.new_mean' :\n",
    "        key = k\n",
    "    elif k == 'normalizer.new_std':\n",
    "        key = k\n",
    "    else:\n",
    "        key = 'model.' + k\n",
    "    para_order[key] = para[k]"
   ]
  },
  {
   "cell_type": "code",
   "execution_count": 19,
   "id": "f572d000-4118-41eb-948d-9c1f386257f8",
   "metadata": {},
   "outputs": [
    {
     "data": {
      "text/plain": [
       "166"
      ]
     },
     "execution_count": 19,
     "metadata": {},
     "output_type": "execute_result"
    }
   ],
   "source": [
    "len(para_order)"
   ]
  },
  {
   "cell_type": "code",
   "execution_count": 20,
   "id": "2d6285b3-7fb3-435b-9eb8-8bca9971b5be",
   "metadata": {},
   "outputs": [],
   "source": [
    "for k in para.keys():\n",
    "    if k == 'normalizer.new_mean' :\n",
    "        key = 'attacker.normalize.new_mean'\n",
    "    elif k == 'normalizer.new_std':\n",
    "        key = 'attacker.normalize.new_std'\n",
    "    else:\n",
    "        key = 'attacker.model.' + k\n",
    "    para_order[key] = para[k]"
   ]
  },
  {
   "cell_type": "code",
   "execution_count": 21,
   "id": "9b7c6c24-f563-4ee0-9aed-431b100c87e3",
   "metadata": {},
   "outputs": [
    {
     "data": {
      "text/plain": [
       "332"
      ]
     },
     "execution_count": 21,
     "metadata": {},
     "output_type": "execute_result"
    }
   ],
   "source": [
    "len(para_order)"
   ]
  },
  {
   "cell_type": "code",
   "execution_count": 22,
   "id": "819d566d-c418-4c67-a181-fe42428cca50",
   "metadata": {
    "tags": []
   },
   "outputs": [],
   "source": [
    "torch.save(para_order,'./model/cifar10/mobilenet/attacker_cnn.pt')"
   ]
  },
  {
   "cell_type": "code",
   "execution_count": null,
   "id": "f2db524d-8d36-44b3-bc82-9c6781a43da6",
   "metadata": {},
   "outputs": [],
   "source": []
  }
 ],
 "metadata": {
  "kernelspec": {
   "display_name": "tensorflow",
   "language": "python",
   "name": "python3"
  },
  "language_info": {
   "codemirror_mode": {
    "name": "ipython",
    "version": 3
   },
   "file_extension": ".py",
   "mimetype": "text/x-python",
   "name": "python",
   "nbconvert_exporter": "python",
   "pygments_lexer": "ipython3",
   "version": "3.8.8 (default, Feb 24 2021, 15:54:32) [MSC v.1928 64 bit (AMD64)]"
  },
  "vscode": {
   "interpreter": {
    "hash": "9b0bbc59db77a5db02c1228c60e342842de780909f41ac452708e93806f71d31"
   }
  }
 },
 "nbformat": 4,
 "nbformat_minor": 5
}
